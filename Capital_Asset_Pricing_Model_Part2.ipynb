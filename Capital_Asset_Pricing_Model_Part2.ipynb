{
  "nbformat": 4,
  "nbformat_minor": 0,
  "metadata": {
    "colab": {
      "name": "Capital Asset Pricing Model Part2.ipynb",
      "provenance": [],
      "collapsed_sections": [],
      "authorship_tag": "ABX9TyNrPD62pcdf/m9awhVVBieV",
      "include_colab_link": true
    },
    "kernelspec": {
      "name": "python3",
      "display_name": "Python 3"
    },
    "language_info": {
      "name": "python"
    }
  },
  "cells": [
    {
      "cell_type": "markdown",
      "metadata": {
        "id": "view-in-github",
        "colab_type": "text"
      },
      "source": [
        "<a href=\"https://colab.research.google.com/github/amura/capmpricing/blob/main/Capital_Asset_Pricing_Model_Part2.ipynb\" target=\"_parent\"><img src=\"https://colab.research.google.com/assets/colab-badge.svg\" alt=\"Open In Colab\"/></a>"
      ]
    },
    {
      "cell_type": "markdown",
      "metadata": {
        "id": "GVEMcmFojbRr"
      },
      "source": [
        "## Accessing daily prices "
      ]
    },
    {
      "cell_type": "code",
      "metadata": {
        "id": "O6kkdos3v7Yh"
      },
      "source": [
        "%%capture\n",
        "!pip install pandas-datareader\n",
        "!pip3 install yfinance"
      ],
      "execution_count": 1,
      "outputs": []
    },
    {
      "cell_type": "code",
      "metadata": {
        "id": "ub0pf7QUz7jB"
      },
      "source": [
        "import pandas as pd\n",
        "import numpy as np\n",
        "import matplotlib.pyplot as plt\n",
        "import datetime\n",
        "import warnings\n",
        "warnings.filterwarnings('ignore')\n",
        "plt.style.use('seaborn')"
      ],
      "execution_count": 2,
      "outputs": []
    },
    {
      "cell_type": "code",
      "metadata": {
        "id": "id5osp_vwWC7"
      },
      "source": [
        "from pandas_datareader import data\n",
        "import pandas as pd"
      ],
      "execution_count": 3,
      "outputs": []
    },
    {
      "cell_type": "code",
      "metadata": {
        "id": "NBod9u6LjiZm"
      },
      "source": [
        "\n",
        "# Apple, Intel, Microsoft, IBM, and S&P-500 for the period of 01/01/2021-04/01/2021\n",
        "startDt = '2021-01-01'\n",
        "endDt = '2021-04-01'\n",
        "def getHistoricalPrices(shares):\n",
        "  # panel_data = data.DataReader(shares, 'yahoo', startDt, endDt)\n",
        "  # return panel_data\n",
        "  import yfinance as yf  \n",
        "  start = datetime.datetime(2020,1,1)\n",
        "  end = datetime.datetime(2021,4,1)\n",
        "  SP = yf.download(shares,start=startDt,end = endDt, interval='1d')\n",
        "  return SP\n",
        "\n"
      ],
      "execution_count": 4,
      "outputs": []
    },
    {
      "cell_type": "code",
      "metadata": {
        "colab": {
          "base_uri": "https://localhost:8080/"
        },
        "id": "Tq85E_BAkqAj",
        "outputId": "fe3687ec-5d2b-4093-d638-db7094d6c7d8"
      },
      "source": [
        "shares = ['AAPL','INTC','MSFT','IBM','^GSPC']\n",
        "historical_data = getHistoricalPrices(shares)\n",
        "print(historical_data)\n",
        "\n",
        "print(historical_data.shape)\n",
        "\n"
      ],
      "execution_count": 27,
      "outputs": [
        {
          "output_type": "stream",
          "text": [
            "[*********************100%***********************]  5 of 5 completed\n",
            "             Adj Close                         ...    Volume                      \n",
            "                  AAPL         IBM       INTC  ...      INTC      MSFT       ^GSPC\n",
            "Date                                           ...                                \n",
            "2021-01-04  128.997803  120.954201  49.068108  ...  46102500  37130100  5006680000\n",
            "2021-01-05  130.592697  123.101204  49.996723  ...  24866600  23823000  4582620000\n",
            "2021-01-06  126.196747  126.175316  50.480778  ...  36809600  35930700  6049970000\n",
            "2021-01-07  130.502991  125.882545  51.557571  ...  32092300  27694500  5080870000\n",
            "2021-01-08  131.629379  125.433624  51.024120  ...  34625400  22956200  4764180000\n",
            "...                ...         ...        ...  ...       ...       ...         ...\n",
            "2021-03-25  120.385513  131.599625  61.640350  ...  35401400  34061900  4940800000\n",
            "2021-03-26  121.004463  134.873047  64.472908  ...  34705800  25479900  5467850000\n",
            "2021-03-29  121.184158  134.358780  64.105171  ...  26161600  25227500  4619840000\n",
            "2021-03-30  119.696686  133.231384  63.379639  ...  20709500  24792000  4103570000\n",
            "2021-03-31  121.942871  131.787506  63.608231  ...  33013200  43623500  4564980000\n",
            "\n",
            "[61 rows x 30 columns]\n",
            "(61, 30)\n"
          ],
          "name": "stdout"
        }
      ]
    },
    {
      "cell_type": "markdown",
      "metadata": {
        "id": "lIBSVZk7vxJu"
      },
      "source": [
        "### Accessing risk free rate"
      ]
    },
    {
      "cell_type": "markdown",
      "metadata": {
        "id": "SgeatysHv8Vg"
      },
      "source": [
        "Extract risk-free rate using FRED (Federal Reserve Economic Data) API for the period of 01/01/2021-04/01/2021 via yahoo finance API."
      ]
    },
    {
      "cell_type": "code",
      "metadata": {
        "id": "7UjPS8Ekv2b-"
      },
      "source": [
        "%%capture\n",
        "!pip3 install fredapi\n"
      ],
      "execution_count": 6,
      "outputs": []
    },
    {
      "cell_type": "code",
      "metadata": {
        "colab": {
          "base_uri": "https://localhost:8080/"
        },
        "id": "-umS2tbxyDbJ",
        "outputId": "639ee761-7ce6-48a3-9f21-ffe9b09566ce"
      },
      "source": [
        "from fredapi import Fred\n",
        "fred = Fred(api_key='e646ec454433af4d2d7d3a8b77b5cad3')\n",
        "\n",
        "riskFreeRate = fred.get_series('DGS3MO', observation_start='01/01/2021', observation_end='04/01/2021')\n",
        "print(riskFreeRate)"
      ],
      "execution_count": 7,
      "outputs": [
        {
          "output_type": "stream",
          "text": [
            "2021-01-01     NaN\n",
            "2021-01-04    0.09\n",
            "2021-01-05    0.09\n",
            "2021-01-06    0.09\n",
            "2021-01-07    0.09\n",
            "              ... \n",
            "2021-03-26    0.02\n",
            "2021-03-29    0.03\n",
            "2021-03-30    0.02\n",
            "2021-03-31    0.03\n",
            "2021-04-01    0.02\n",
            "Length: 65, dtype: float64\n"
          ],
          "name": "stdout"
        }
      ]
    },
    {
      "cell_type": "code",
      "metadata": {
        "colab": {
          "base_uri": "https://localhost:8080/",
          "height": 376
        },
        "id": "tmRz0Nv5zT7n",
        "outputId": "cd125f05-8e5b-4f94-ae45-17f30a6e5e0d"
      },
      "source": [
        "from matplotlib import  pyplot as plt\n",
        "plt.plot(riskFreeRate)\n",
        "\n",
        "plt.title('Interest Rate %')\n",
        "plt.ylabel('%')\n",
        "plt.xlabel('Date')\n",
        "plt.show()"
      ],
      "execution_count": 8,
      "outputs": [
        {
          "output_type": "display_data",
          "data": {
            "image/png": "[encoded data removed]",
            "text/plain": [
              "<Figure size 576x396 with 1 Axes>"
            ]
          },
          "metadata": {
            "tags": []
          }
        }
      ]
    },
    {
      "cell_type": "markdown",
      "metadata": {
        "id": "lzlJk3hOc3vS"
      },
      "source": [
        "### Heatmap"
      ]
    },
    {
      "cell_type": "code",
      "metadata": {
        "colab": {
          "base_uri": "https://localhost:8080/",
          "height": 374
        },
        "id": "Q_gQvA4Cc6DB",
        "outputId": "c5ee2601-37c4-4bc5-80fb-cdcd694c0f67"
      },
      "source": [
        "import seaborn as sns; sns.set_theme()\n",
        "\n",
        "sns.heatmap(historical_data['Close'].corr(method='pearson'), annot=True)\n",
        "\n"
      ],
      "execution_count": 9,
      "outputs": [
        {
          "output_type": "execute_result",
          "data": {
            "text/plain": [
              "<matplotlib.axes._subplots.AxesSubplot at 0x7fa70f1b8e10>"
            ]
          },
          "metadata": {
            "tags": []
          },
          "execution_count": 9
        },
        {
          "output_type": "display_data",
          "data": {
            "image/png": "[encoded data removed]",
            "text/plain": [
              "<Figure size 576x396 with 2 Axes>"
            ]
          },
          "metadata": {
            "tags": []
          }
        }
      ]
    },
    {
      "cell_type": "markdown",
      "metadata": {
        "id": "HusOBpFW-UGK"
      },
      "source": [
        "### Daily returns\n"
      ]
    },
    {
      "cell_type": "code",
      "metadata": {
        "colab": {
          "base_uri": "https://localhost:8080/",
          "height": 235
        },
        "id": "A_KB_tyt-YKJ",
        "outputId": "4097bd45-8304-4ed7-ff42-fbd1b26d0a88"
      },
      "source": [
        "daily_return = historical_data['Close'].pct_change()\n",
        "daily_return.dropna(inplace = True)\n",
        "daily_return.head()\n"
      ],
      "execution_count": 10,
      "outputs": [
        {
          "output_type": "execute_result",
          "data": {
            "text/html": [
              "<div>\n",
              "<style scoped>\n",
              "    .dataframe tbody tr th:only-of-type {\n",
              "        vertical-align: middle;\n",
              "    }\n",
              "\n",
              "    .dataframe tbody tr th {\n",
              "        vertical-align: top;\n",
              "    }\n",
              "\n",
              "    .dataframe thead th {\n",
              "        text-align: right;\n",
              "    }\n",
              "</style>\n",
              "<table border=\"1\" class=\"dataframe\">\n",
              "  <thead>\n",
              "    <tr style=\"text-align: right;\">\n",
              "      <th></th>\n",
              "      <th>AAPL</th>\n",
              "      <th>IBM</th>\n",
              "      <th>INTC</th>\n",
              "      <th>MSFT</th>\n",
              "      <th>^GSPC</th>\n",
              "    </tr>\n",
              "    <tr>\n",
              "      <th>Date</th>\n",
              "      <th></th>\n",
              "      <th></th>\n",
              "      <th></th>\n",
              "      <th></th>\n",
              "      <th></th>\n",
              "    </tr>\n",
              "  </thead>\n",
              "  <tbody>\n",
              "    <tr>\n",
              "      <th>2021-01-05</th>\n",
              "      <td>0.012364</td>\n",
              "      <td>0.017750</td>\n",
              "      <td>0.018925</td>\n",
              "      <td>0.000965</td>\n",
              "      <td>0.007083</td>\n",
              "    </tr>\n",
              "    <tr>\n",
              "      <th>2021-01-06</th>\n",
              "      <td>-0.033662</td>\n",
              "      <td>0.024972</td>\n",
              "      <td>0.009682</td>\n",
              "      <td>-0.025929</td>\n",
              "      <td>0.005710</td>\n",
              "    </tr>\n",
              "    <tr>\n",
              "      <th>2021-01-07</th>\n",
              "      <td>0.034123</td>\n",
              "      <td>-0.002320</td>\n",
              "      <td>0.021331</td>\n",
              "      <td>0.028457</td>\n",
              "      <td>0.014847</td>\n",
              "    </tr>\n",
              "    <tr>\n",
              "      <th>2021-01-08</th>\n",
              "      <td>0.008631</td>\n",
              "      <td>-0.003566</td>\n",
              "      <td>-0.010347</td>\n",
              "      <td>0.006093</td>\n",
              "      <td>0.005492</td>\n",
              "    </tr>\n",
              "    <tr>\n",
              "      <th>2021-01-11</th>\n",
              "      <td>-0.023249</td>\n",
              "      <td>0.000389</td>\n",
              "      <td>-0.002130</td>\n",
              "      <td>-0.009699</td>\n",
              "      <td>-0.006555</td>\n",
              "    </tr>\n",
              "  </tbody>\n",
              "</table>\n",
              "</div>"
            ],
            "text/plain": [
              "                AAPL       IBM      INTC      MSFT     ^GSPC\n",
              "Date                                                        \n",
              "2021-01-05  0.012364  0.017750  0.018925  0.000965  0.007083\n",
              "2021-01-06 -0.033662  0.024972  0.009682 -0.025929  0.005710\n",
              "2021-01-07  0.034123 -0.002320  0.021331  0.028457  0.014847\n",
              "2021-01-08  0.008631 -0.003566 -0.010347  0.006093  0.005492\n",
              "2021-01-11 -0.023249  0.000389 -0.002130 -0.009699 -0.006555"
            ]
          },
          "metadata": {
            "tags": []
          },
          "execution_count": 10
        }
      ]
    },
    {
      "cell_type": "code",
      "metadata": {
        "id": "p30XTNYhAz5S"
      },
      "source": [
        "# daily_return = ((historical_data['Close']/ historical_data['Close'].shift(1)) - 1)\n",
        "# daily_return.dropna(inplace = True)\n",
        "# daily_return.head()"
      ],
      "execution_count": 11,
      "outputs": []
    },
    {
      "cell_type": "code",
      "metadata": {
        "colab": {
          "base_uri": "https://localhost:8080/"
        },
        "id": "rJkISrBjDoNE",
        "outputId": "7cdfe416-bc7e-4746-9f03-8cbfcda86627"
      },
      "source": [
        "riskFreeRate.head()"
      ],
      "execution_count": 12,
      "outputs": [
        {
          "output_type": "execute_result",
          "data": {
            "text/plain": [
              "2021-01-01     NaN\n",
              "2021-01-04    0.09\n",
              "2021-01-05    0.09\n",
              "2021-01-06    0.09\n",
              "2021-01-07    0.09\n",
              "dtype: float64"
            ]
          },
          "metadata": {
            "tags": []
          },
          "execution_count": 12
        }
      ]
    },
    {
      "cell_type": "code",
      "metadata": {
        "id": "bPgky_Ob_CDD"
      },
      "source": [
        "# convert 3 month to daily rate\n",
        "rfr = riskFreeRate / 90;\n"
      ],
      "execution_count": 13,
      "outputs": []
    },
    {
      "cell_type": "code",
      "metadata": {
        "colab": {
          "base_uri": "https://localhost:8080/"
        },
        "id": "2z7RXBx-ns0c",
        "outputId": "3dffea67-0b8b-4aa2-e58c-e5839e8a63e7"
      },
      "source": [
        "rfr.dropna(inplace = True)\n",
        "rfr.head()"
      ],
      "execution_count": 14,
      "outputs": [
        {
          "output_type": "execute_result",
          "data": {
            "text/plain": [
              "2021-01-04    0.001000\n",
              "2021-01-05    0.001000\n",
              "2021-01-06    0.001000\n",
              "2021-01-07    0.001000\n",
              "2021-01-08    0.000889\n",
              "dtype: float64"
            ]
          },
          "metadata": {
            "tags": []
          },
          "execution_count": 14
        }
      ]
    },
    {
      "cell_type": "code",
      "metadata": {
        "colab": {
          "base_uri": "https://localhost:8080/",
          "height": 386
        },
        "id": "c0kC_LxMpsEB",
        "outputId": "02c64ca7-13b6-48c9-e586-028453fcbc22"
      },
      "source": [
        "plt.plot(rfr)\n",
        "\n",
        "plt.title('Interest Rate Daily %')\n",
        "plt.ylabel('%')\n",
        "plt.xlabel('Date')\n",
        "plt.show()"
      ],
      "execution_count": 15,
      "outputs": [
        {
          "output_type": "display_data",
          "data": {
            "image/png": "[encoded data removed]",
            "text/plain": [
              "<Figure size 576x396 with 1 Axes>"
            ]
          },
          "metadata": {
            "tags": []
          }
        }
      ]
    },
    {
      "cell_type": "markdown",
      "metadata": {
        "id": "ZJI0ACrLn-4F"
      },
      "source": [
        "### Excess stock and market returns"
      ]
    },
    {
      "cell_type": "code",
      "metadata": {
        "colab": {
          "base_uri": "https://localhost:8080/"
        },
        "id": "epQfWy88oMBB",
        "outputId": "3226197f-80c3-42fe-d765-9b54d88d37ee"
      },
      "source": [
        "# go through each stock and calculate the excess return\n",
        "for share in shares:\n",
        "  historical_data[share + '_ER'] = daily_return[share] - rfr\n",
        "historical_data.dropna(inplace=True)\n",
        "print(historical_data.head())"
      ],
      "execution_count": 28,
      "outputs": [
        {
          "output_type": "stream",
          "text": [
            "             Adj Close                         ...   MSFT_ER    IBM_ER  ^GSPC_ER\n",
            "                  AAPL         IBM       INTC  ...                              \n",
            "Date                                           ...                              \n",
            "2021-01-05  130.592697  123.101204  49.996723  ... -0.000035  0.016750  0.006083\n",
            "2021-01-06  126.196747  126.175316  50.480778  ... -0.026929  0.023972  0.004710\n",
            "2021-01-07  130.502991  125.882545  51.557571  ...  0.027457 -0.003320  0.013847\n",
            "2021-01-08  131.629379  125.433624  51.024120  ...  0.005204 -0.004455  0.004603\n",
            "2021-01-11  128.569168  125.482422  50.915451  ... -0.010587 -0.000500 -0.007444\n",
            "\n",
            "[5 rows x 35 columns]\n"
          ],
          "name": "stdout"
        }
      ]
    }
  ]
}