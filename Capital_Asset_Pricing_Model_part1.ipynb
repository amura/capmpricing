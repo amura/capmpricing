{
  "nbformat": 4,
  "nbformat_minor": 0,
  "metadata": {
    "colab": {
      "name": "Capital Asset Pricing Model.ipynb",
      "provenance": [],
      "collapsed_sections": [],
      "authorship_tag": "ABX9TyNPYMSTPP6iEd5iBWMi9wac",
      "include_colab_link": true
    },
    "kernelspec": {
      "name": "python3",
      "display_name": "Python 3"
    },
    "language_info": {
      "name": "python"
    }
  },
  "cells": [
    {
      "cell_type": "markdown",
      "metadata": {
        "id": "view-in-github",
        "colab_type": "text"
      },
      "source": [
        "<a href=\"https://colab.research.google.com/github/amura/capmpricing/blob/main/Capital_Asset_Pricing_Model_part1.ipynb\" target=\"_parent\"><img src=\"https://colab.research.google.com/assets/colab-badge.svg\" alt=\"Open In Colab\"/></a>"
      ]
    },
    {
      "cell_type": "markdown",
      "metadata": {
        "id": "GVEMcmFojbRr"
      },
      "source": [
        "## Accessing daily prices "
      ]
    },
    {
      "cell_type": "code",
      "metadata": {
        "id": "O6kkdos3v7Yh"
      },
      "source": [
        "%%capture\n",
        "!pip install pandas-datareader\n",
        "!pip3 install yfinance"
      ],
      "execution_count": null,
      "outputs": []
    },
    {
      "cell_type": "code",
      "metadata": {
        "id": "ub0pf7QUz7jB"
      },
      "source": [
        "import pandas as pd\n",
        "import numpy as np\n",
        "import matplotlib.pyplot as plt\n",
        "import datetime\n",
        "import warnings\n",
        "warnings.filterwarnings('ignore')\n",
        "plt.style.use('seaborn')"
      ],
      "execution_count": 8,
      "outputs": []
    },
    {
      "cell_type": "code",
      "metadata": {
        "id": "id5osp_vwWC7"
      },
      "source": [
        "from pandas_datareader import data\n",
        "import pandas as pd"
      ],
      "execution_count": 12,
      "outputs": []
    },
    {
      "cell_type": "code",
      "metadata": {
        "id": "NBod9u6LjiZm"
      },
      "source": [
        "\n",
        "# Apple, Intel, Microsoft, IBM, and S&P-500 for the period of 01/01/2021-04/01/2021\n",
        "startDt = '2021-01-01'\n",
        "endDt = '2021-04-01'\n",
        "def getHistoricalPrices(shares):\n",
        "  # panel_data = data.DataReader(shares, 'yahoo', startDt, endDt)\n",
        "  # return panel_data\n",
        "  import yfinance as yf  \n",
        "  start = datetime.datetime(2020,1,1)\n",
        "  end = datetime.datetime(2021,4,1)\n",
        "  SP = yf.download(shares,start=start,end = end, interval='1d')\n",
        "  return SP\n",
        "\n"
      ],
      "execution_count": 14,
      "outputs": []
    },
    {
      "cell_type": "code",
      "metadata": {
        "colab": {
          "base_uri": "https://localhost:8080/"
        },
        "id": "Tq85E_BAkqAj",
        "outputId": "f1ee8b49-473d-447e-fbcc-ba2e822a72d4"
      },
      "source": [
        "historical_data = getHistoricalPrices(['AAPL','INTC','MSFT','IBM','^GSPC'])\n",
        "print(historical_data)\n",
        "\n",
        "print(historical_data.shape)\n",
        "\n"
      ],
      "execution_count": 15,
      "outputs": [
        {
          "output_type": "stream",
          "text": [
            "[*********************100%***********************]  5 of 5 completed\n",
            "             Adj Close                         ...    Volume                      \n",
            "                  AAPL         IBM       INTC  ...      INTC      MSFT       ^GSPC\n",
            "Date                                           ...                                \n",
            "2020-01-02   74.207466  125.572166  58.644547  ...  18056000  22622100  3458250000\n",
            "2020-01-03   73.486023  124.570686  57.931248  ...  15293900  21116200  3461290000\n",
            "2020-01-06   74.071579  124.348145  57.767384  ...  17755200  20813700  3674070000\n",
            "2020-01-07   73.723213  124.431610  56.803471  ...  21876100  21634100  3420380000\n",
            "2020-01-08   74.909149  125.470146  56.842022  ...  23133500  27746500  3720890000\n",
            "...                ...         ...        ...  ...       ...       ...         ...\n",
            "2021-03-25  120.385513  131.599625  61.640350  ...  35401400  34061900  4940800000\n",
            "2021-03-26  121.004463  134.873047  64.472908  ...  34705800  25479900  5467850000\n",
            "2021-03-29  121.184158  134.358780  64.105171  ...  26161600  25227500  4619840000\n",
            "2021-03-30  119.696686  133.231384  63.379639  ...  20709500  24792000  4103570000\n",
            "2021-03-31  121.942871  131.787506  63.608231  ...  33013200  43623500  4564980000\n",
            "\n",
            "[314 rows x 30 columns]\n",
            "(314, 30)\n"
          ],
          "name": "stdout"
        }
      ]
    },
    {
      "cell_type": "markdown",
      "metadata": {
        "id": "lIBSVZk7vxJu"
      },
      "source": [
        "### Accessing risk free rate"
      ]
    },
    {
      "cell_type": "markdown",
      "metadata": {
        "id": "SgeatysHv8Vg"
      },
      "source": [
        "Extract risk-free rate using FRED (Federal Reserve Economic Data) API for the period of 01/01/2021-04/01/2021 via yahoo finance API."
      ]
    },
    {
      "cell_type": "code",
      "metadata": {
        "id": "7UjPS8Ekv2b-"
      },
      "source": [
        "%%capture\n",
        "!pip3 install fredapi\n"
      ],
      "execution_count": 1,
      "outputs": []
    },
    {
      "cell_type": "code",
      "metadata": {
        "colab": {
          "base_uri": "https://localhost:8080/"
        },
        "id": "-umS2tbxyDbJ",
        "outputId": "1c057573-6a8d-4dd7-a221-cf053148f362"
      },
      "source": [
        "from fredapi import Fred\n",
        "fred = Fred(api_key='e646ec454433af4d2d7d3a8b77b5cad3')\n",
        "\n",
        "riskFreeRate = fred.get_series('DGS3MO', observation_start='01/01/2021', observation_end='04/01/2021')\n",
        "print(riskFreeRate)"
      ],
      "execution_count": 3,
      "outputs": [
        {
          "output_type": "stream",
          "text": [
            "2021-01-01     NaN\n",
            "2021-01-04    0.09\n",
            "2021-01-05    0.09\n",
            "2021-01-06    0.09\n",
            "2021-01-07    0.09\n",
            "              ... \n",
            "2021-03-26    0.02\n",
            "2021-03-29    0.03\n",
            "2021-03-30    0.02\n",
            "2021-03-31    0.03\n",
            "2021-04-01    0.02\n",
            "Length: 65, dtype: float64\n"
          ],
          "name": "stdout"
        }
      ]
    },
    {
      "cell_type": "code",
      "metadata": {
        "colab": {
          "base_uri": "https://localhost:8080/",
          "height": 295
        },
        "id": "tmRz0Nv5zT7n",
        "outputId": "7f42bfda-bf6c-43c0-838d-fb9b0e12c995"
      },
      "source": [
        "from matplotlib import  pyplot as plt\n",
        "plt.plot(riskFreeRate)\n",
        "\n",
        "plt.title('Interest Rate %')\n",
        "plt.ylabel('%')\n",
        "plt.xlabel('Date')\n",
        "plt.show()"
      ],
      "execution_count": 6,
      "outputs": [
        {
          "output_type": "display_data",
          "data": {
            "image/png": "[encoded data removed]",
            "text/plain": [
              "<Figure size 432x288 with 1 Axes>"
            ]
          },
          "metadata": {
            "tags": [],
            "needs_background": "light"
          }
        }
      ]
    }
  ]
}